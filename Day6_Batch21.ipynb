{
 "cells": [
  {
   "cell_type": "code",
   "execution_count": null,
   "metadata": {},
   "outputs": [],
   "source": [
    "# for loops continue....."
   ]
  },
  {
   "cell_type": "code",
   "execution_count": 2,
   "metadata": {},
   "outputs": [
    {
     "name": "stdout",
     "output_type": "stream",
     "text": [
      "suresh\n",
      "ramya\n",
      "yasmeen\n",
      "nihar\n",
      "tarun\n",
      "syeda\n",
      "sneha\n"
     ]
    }
   ],
   "source": [
    "# requirement :\n",
    "#1. appreciate all above for sending the files\n",
    "#2. Also want to tell them looking forward to receive files today\n",
    "\n",
    "students = ['suresh','ramya','yasmeen','nihar','tarun','syeda','sneha']\n",
    "\n",
    "for random in students:\n",
    "    print(random)"
   ]
  },
  {
   "cell_type": "code",
   "execution_count": 8,
   "metadata": {},
   "outputs": [
    {
     "name": "stdout",
     "output_type": "stream",
     "text": [
      "keep it up, Suresh\n",
      "I am looking forward to receive files today, Suresh\n",
      "\n",
      "keep it up, Ramya\n",
      "I am looking forward to receive files today, Ramya\n",
      "\n",
      "keep it up, Yasmeen\n",
      "I am looking forward to receive files today, Yasmeen\n",
      "\n",
      "keep it up, Nihar\n",
      "I am looking forward to receive files today, Nihar\n",
      "\n",
      "keep it up, Tarun\n",
      "I am looking forward to receive files today, Tarun\n",
      "\n",
      "keep it up, Syeda\n",
      "I am looking forward to receive files today, Syeda\n",
      "\n",
      "keep it up, Sneha\n",
      "I am looking forward to receive files today, Sneha\n",
      "\n",
      "Thank you all for joining python sessions\n"
     ]
    }
   ],
   "source": [
    "students = ['suresh','ramya','yasmeen','nihar','tarun','syeda','sneha']\n",
    "\n",
    "for random in students:\n",
    "    print(f\"keep it up, {random.title()}\")\n",
    "    print(f\"I am looking forward to receive files today, {random.title()}\\n\")\n",
    "    \n",
    "print(f\"Thank you all for joining python sessions\")"
   ]
  },
  {
   "cell_type": "code",
   "execution_count": 10,
   "metadata": {},
   "outputs": [
    {
     "name": "stdout",
     "output_type": "stream",
     "text": [
      "Suresh\n",
      "NILESH\n",
      "Yasmeen\n",
      "Nihar\n",
      "Tarun\n",
      "Syeda\n",
      "Sneha\n"
     ]
    }
   ],
   "source": [
    "# syntax for if-else\n",
    "students = ['suresh','nilesh','yasmeen','nihar','tarun','syeda','sneha']\n",
    "\n",
    "for x in students:\n",
    "    if x == 'nilesh':\n",
    "        print(x.upper())\n",
    "    else:\n",
    "        print(x.title())\n",
    "    \n",
    "\n"
   ]
  },
  {
   "cell_type": "code",
   "execution_count": 15,
   "metadata": {},
   "outputs": [
    {
     "name": "stdout",
     "output_type": "stream",
     "text": [
      "['suresh', 'nilesh', 'yasmeen', 'nihar', 'tarun']\n",
      "['yasmeen', 'nihar']\n"
     ]
    }
   ],
   "source": [
    "#Introduction to slicing of lists\n",
    "students = ['suresh','nilesh','yasmeen','nihar','tarun','syeda','sneha']\n",
    "print(students[0:5])\n",
    "print(students[2:4])\n"
   ]
  },
  {
   "cell_type": "code",
   "execution_count": null,
   "metadata": {},
   "outputs": [],
   "source": []
  },
  {
   "cell_type": "code",
   "execution_count": null,
   "metadata": {},
   "outputs": [],
   "source": []
  }
 ],
 "metadata": {
  "kernelspec": {
   "display_name": "Python 3",
   "language": "python",
   "name": "python3"
  },
  "language_info": {
   "codemirror_mode": {
    "name": "ipython",
    "version": 3
   },
   "file_extension": ".py",
   "mimetype": "text/x-python",
   "name": "python",
   "nbconvert_exporter": "python",
   "pygments_lexer": "ipython3",
   "version": "3.7.6"
  }
 },
 "nbformat": 4,
 "nbformat_minor": 4
}
